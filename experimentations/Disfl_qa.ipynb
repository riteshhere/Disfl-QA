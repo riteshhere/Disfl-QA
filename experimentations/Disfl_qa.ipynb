{
 "cells": [
  {
   "cell_type": "code",
   "execution_count": 1,
   "metadata": {
    "colab": {
     "base_uri": "https://localhost:8080/"
    },
    "id": "APDw5ljm1MC6",
    "outputId": "93a7bf73-9627-4383-b616-c5da8f372136"
   },
   "outputs": [
    {
     "name": "stdout",
     "output_type": "stream",
     "text": [
      "\u001b[33mWARNING: Running pip as the 'root' user can result in broken permissions and conflicting behaviour with the system package manager, possibly rendering your system unusable.It is recommended to use a virtual environment instead: https://pip.pypa.io/warnings/venv. Use the --root-user-action option if you know what you are doing and want to suppress this warning.\u001b[0m\u001b[33m\n",
      "\u001b[0m"
     ]
    }
   ],
   "source": [
    "!pip -q install bert_score bleu rouge_score mlflow datasets"
   ]
  },
  {
   "cell_type": "code",
   "execution_count": 2,
   "metadata": {
    "colab": {
     "base_uri": "https://localhost:8080/"
    },
    "id": "eHjB9nveyap2",
    "outputId": "b95b80cf-b097-479e-a53f-8d4d3dbcfcd7"
   },
   "outputs": [
    {
     "name": "stderr",
     "output_type": "stream",
     "text": [
      "[nltk_data] Downloading package punkt to /root/nltk_data...\n",
      "[nltk_data]   Package punkt is already up-to-date!\n"
     ]
    },
    {
     "data": {
      "text/plain": [
       "True"
      ]
     },
     "execution_count": 2,
     "metadata": {},
     "output_type": "execute_result"
    }
   ],
   "source": [
    "import torch\n",
    "import pandas as pd\n",
    "import random\n",
    "import numpy as np\n",
    "import matplotlib.pyplot as plt\n",
    "from transformers import BartForConditionalGeneration, BartTokenizer, Trainer, TrainingArguments, TrainerCallback, GenerationConfig, set_seed\n",
    "from sklearn.model_selection import train_test_split\n",
    "from datasets import load_metric\n",
    "import mlflow\n",
    "import mlflow.pytorch\n",
    "import bert_score\n",
    "import nltk\n",
    "nltk.download('punkt')"
   ]
  },
  {
   "cell_type": "code",
   "execution_count": 3,
   "metadata": {
    "id": "a2gmkXiHyaiA"
   },
   "outputs": [],
   "source": [
    "train_data = pd.read_json(\"https://raw.githubusercontent.com/google-research-datasets/Disfl-QA/main/train.json\", orient='index')\n",
    "val_data = pd.read_json(\"https://raw.githubusercontent.com/google-research-datasets/Disfl-QA/main/dev.json\", orient='index')\n",
    "test_data = pd.read_json(\"https://raw.githubusercontent.com/google-research-datasets/Disfl-QA/main/test.json\", orient='index')"
   ]
  },
  {
   "cell_type": "code",
   "execution_count": 4,
   "metadata": {
    "id": "W4nA86dgyacF"
   },
   "outputs": [],
   "source": [
    "#clean data\n",
    "train_data = train_data[(train_data['disfluent'].str.len() >= 25)]\n",
    "val_data = val_data[(val_data['disfluent'].str.len() >= 25)]\n",
    "test_data = test_data[(test_data['disfluent'].str.len() >= 25)]"
   ]
  },
  {
   "cell_type": "code",
   "execution_count": 5,
   "metadata": {},
   "outputs": [
    {
     "name": "stdout",
     "output_type": "stream",
     "text": [
      "<class 'pandas.core.frame.DataFrame'>\n",
      "Index: 7146 entries, 5a5918ff3e1742001a15cf7e to 5ad405f0604f3c001a3ffe2f\n",
      "Data columns (total 2 columns):\n",
      " #   Column     Non-Null Count  Dtype \n",
      "---  ------     --------------  ----- \n",
      " 0   original   7146 non-null   object\n",
      " 1   disfluent  7146 non-null   object\n",
      "dtypes: object(2)\n",
      "memory usage: 167.5+ KB\n"
     ]
    }
   ],
   "source": [
    "train_data.info()"
   ]
  },
  {
   "cell_type": "code",
   "execution_count": 7,
   "metadata": {
    "id": "MxhG-QVmctL3"
   },
   "outputs": [],
   "source": [
    "# Augmented Data\n",
    "train_aug = pd.read_csv('train_augmeneted.csv')\n",
    "val_aug = pd.read_csv('val_augmeneted.csv')\n",
    "test_aug = pd.read_csv('test_augmeneted.csv')"
   ]
  },
  {
   "cell_type": "code",
   "execution_count": 8,
   "metadata": {},
   "outputs": [
    {
     "data": {
      "text/plain": [
       "((14292, 2), (1990, 2), (7258, 2))"
      ]
     },
     "execution_count": 8,
     "metadata": {},
     "output_type": "execute_result"
    }
   ],
   "source": [
    "train_aug.shape, val_aug.shape, test_aug.shape"
   ]
  },
  {
   "cell_type": "code",
   "execution_count": 9,
   "metadata": {
    "id": "aRgkx0reVwsY"
   },
   "outputs": [],
   "source": [
    "# Define the DisfluencyDataset class (missing in original code)\n",
    "class DisfluencyDataset(torch.utils.data.Dataset):\n",
    "    def __init__(self, encodings):\n",
    "        self.encodings = encodings\n",
    "\n",
    "    def __getitem__(self, idx):\n",
    "        return {key: val[idx] for key, val in self.encodings.items()}\n",
    "\n",
    "    def __len__(self):\n",
    "        return len(self.encodings['input_ids'])"
   ]
  },
  {
   "cell_type": "markdown",
   "metadata": {
    "id": "M2Q8Alf4Y8UM"
   },
   "source": [
    "## BART Experimentation"
   ]
  },
  {
   "cell_type": "code",
   "execution_count": 22,
   "metadata": {
    "id": "8_uV4TAoTA1B"
   },
   "outputs": [],
   "source": [
    "\n",
    "# Define the trainer class\n",
    "class BartDisfluencyTrainer:\n",
    "    def __init__(self, train_df, val_df, test_df, model_name=\"facebook/bart-base\", run_name=\"BART_Run_4\",dropout=0.5,attn_dropout=0.5, seed=42):\n",
    "        self.train_df = train_df\n",
    "        self.val_df = val_df\n",
    "        self.test_df = test_df\n",
    "        self.model_name = model_name\n",
    "        self.run_name = run_name\n",
    "        self.seed = seed\n",
    "        self.dropout = dropout\n",
    "        self.attn_dropout = attn_dropout\n",
    "\n",
    "        # Set seed for reproducibility\n",
    "        self.set_seed()\n",
    "\n",
    "\n",
    "\n",
    "        # Initialize model and tokenizer\n",
    "        self.model = BartForConditionalGeneration.from_pretrained(self.model_name, dropout=self.dropout,attention_dropout = self.attn_dropout)\n",
    "        #self.model.config.attention_dropout = self.attn_dropout\n",
    "\n",
    "        self.tokenizer = BartTokenizer.from_pretrained(self.model_name)\n",
    "\n",
    "        # Initialize MLflow experiment\n",
    "        mlflow.set_experiment(\"Disfluency_Correction_Experiment\")\n",
    "\n",
    "    def set_seed(self):\n",
    "        set_seed(self.seed)  # Sets seed for Hugging Face's transformers, PyTorch, NumPy, and random.\n",
    "        random.seed(self.seed)\n",
    "        np.random.seed(self.seed)\n",
    "        torch.manual_seed(self.seed)\n",
    "        if torch.cuda.is_available():\n",
    "            torch.cuda.manual_seed_all(self.seed)\n",
    "\n",
    "    def tokenize_data(self, df):\n",
    "        # Tokenize the disfluent and fluent sentences\n",
    "        disfluent_encodings = self.tokenizer(df['disfluent'].tolist(), truncation=True, padding=True, max_length=128, return_tensors=\"pt\")\n",
    "        fluent_encodings = self.tokenizer(df['original'].tolist(), truncation=True, padding=True, max_length=128, return_tensors=\"pt\")\n",
    "        disfluent_encodings['labels'] = fluent_encodings['input_ids']\n",
    "        return disfluent_encodings\n",
    "\n",
    "    def prepare_datasets(self):\n",
    "        # Prepare the training and validation datasets\n",
    "        train_encodings = self.tokenize_data(self.train_df)\n",
    "        val_encodings = self.tokenize_data(self.val_df)\n",
    "        return DisfluencyDataset(train_encodings), DisfluencyDataset(val_encodings)\n",
    "\n",
    "    def train(self):\n",
    "        # Prepare datasets\n",
    "        train_dataset, val_dataset = self.prepare_datasets()\n",
    "\n",
    "        # Set training arguments\n",
    "        training_args = TrainingArguments(\n",
    "            output_dir='./results',\n",
    "            num_train_epochs=6,\n",
    "            per_device_train_batch_size=64,\n",
    "            per_device_eval_batch_size=64,\n",
    "            eval_strategy=\"steps\",\n",
    "            eval_steps=100,\n",
    "            logging_dir='./logs',\n",
    "            logging_steps=100,\n",
    "            save_steps=400,\n",
    "            save_total_limit=2,\n",
    "            report_to=\"none\",\n",
    "            seed=self.seed,\n",
    "            learning_rate=3e-5,              \n",
    "            warmup_steps=200,                \n",
    "            lr_scheduler_type=\"linear\",\n",
    "            run_name=self.run_name,\n",
    "            weight_decay=1e-4\n",
    "        )\n",
    "\n",
    "        \n",
    "\n",
    "\n",
    "        # Start an MLflow run and train the model\n",
    "        with mlflow.start_run():\n",
    "            mlflow.set_tag(\"mlflow.runName\", self.run_name)\n",
    "\n",
    "            trainer = Trainer(\n",
    "                model=self.model,\n",
    "                args=training_args,\n",
    "                train_dataset=train_dataset,\n",
    "                eval_dataset=val_dataset,\n",
    "            )\n",
    "\n",
    "            # Log hyperparameters to MLflow\n",
    "            mlflow.log_params({\n",
    "                \"model_name\": self.model_name,\n",
    "                \"num_train_epochs\": training_args.num_train_epochs,\n",
    "                \"batch_size\": training_args.per_device_train_batch_size,\n",
    "                \"eval_batch_size\": training_args.per_device_eval_batch_size,\n",
    "                \"learninig_rate\":  training_args.learning_rate,\n",
    "                \"weight_decay\":  training_args.weight_decay,\n",
    "                \"attention_dropout\": self.model.config.attention_dropout,\n",
    "                \"dropout\": self.model.config.dropout,\n",
    "                \"seed\":  training_args.seed,\n",
    "                \"run_name\":  training_args.run_name\n",
    "            })\n",
    "\n",
    "            # Train the model\n",
    "            trainer.train()\n",
    "\n",
    "            # Log the trained model to MLflow\n",
    "            mlflow.pytorch.log_model(self.model, \"BART_Model_4\")\n",
    "\n",
    "            # Plot and log training loss\n",
    "            self.plot_and_log_loss(trainer.state.log_history)\n",
    "\n",
    "            # Generate predictions and log metrics inside the same run\n",
    "            predictions = self.generate_predictions()\n",
    "            self.evaluate_and_log_metrics(predictions)\n",
    "\n",
    "    def plot_and_log_loss(self, logs):\n",
    "        # Extract training and evaluation losses\n",
    "        train_losses = [log['loss'] for log in logs if 'loss' in log]\n",
    "        eval_losses = [log['eval_loss'] for log in logs if 'eval_loss' in log]\n",
    "\n",
    "        # Plot losses\n",
    "        plt.figure()\n",
    "        plt.plot(train_losses, label='Training Loss')\n",
    "        if eval_losses:\n",
    "            plt.plot(eval_losses, label='Validation Loss')\n",
    "        plt.xlabel(\"Steps\")\n",
    "        plt.ylabel(\"Loss\")\n",
    "        plt.title(\"Training and Validation Loss\")\n",
    "        plt.legend()\n",
    "        plt.grid(True)\n",
    "\n",
    "        # Save plot\n",
    "        plot_path = f\"{self.run_name}_loss_plot.png\"\n",
    "        plt.savefig(plot_path)\n",
    "\n",
    "        # Log loss plot as artifact\n",
    "        mlflow.log_artifact(plot_path)\n",
    "\n",
    "    def generate_predictions(self, batch_size=32):\n",
    "        # Generate predictions on the test dataset\n",
    "        disfluent_texts = self.test_df[\"disfluent\"].tolist()\n",
    "        predictions = []\n",
    "    \n",
    "        # Define the generation configuration\n",
    "        generation_config = GenerationConfig(\n",
    "            early_stopping=True,\n",
    "            num_beams=4,\n",
    "            no_repeat_ngram_size=3,\n",
    "            max_length=128\n",
    "        )\n",
    "    \n",
    "        # Process texts in batches\n",
    "        for i in range(0, len(disfluent_texts), batch_size):\n",
    "            batch_texts = disfluent_texts[i:i + batch_size]\n",
    "    \n",
    "            # Tokenize the batch\n",
    "            inputs = self.tokenizer(\n",
    "                batch_texts, \n",
    "                return_tensors=\"pt\", \n",
    "                max_length=128, \n",
    "                truncation=True, \n",
    "                padding=\"max_length\"\n",
    "            ).to(self.model.device)\n",
    "    \n",
    "            # Generate predictions with adjusted parameters\n",
    "            with torch.no_grad():\n",
    "                outputs = self.model.generate(\n",
    "                    input_ids=inputs[\"input_ids\"], \n",
    "                    attention_mask=inputs[\"attention_mask\"], \n",
    "                    generation_config=generation_config  # Pass the generation config\n",
    "                )\n",
    "    \n",
    "            # Decode predictions\n",
    "            batch_predictions = [self.tokenizer.decode(g, skip_special_tokens=True).strip() for g in outputs]\n",
    "            predictions.extend(batch_predictions)\n",
    "    \n",
    "        # Check for empty predictions\n",
    "        empty_predictions = [pred for pred in predictions if pred.strip() == \"\"]\n",
    "        print(f\"Number of empty predictions: {len(empty_predictions)}\")\n",
    "    \n",
    "        return predictions\n",
    "\n",
    "\n",
    "    def evaluate_and_log_metrics(self, predictions):\n",
    "        # Evaluate predictions using BLEU, ROUGE, and BERTScore\n",
    "        fluent_texts = self.test_df[\"original\"].tolist()\n",
    "\n",
    "        # Compute BLEU score\n",
    "        tokenized_predictions = [nltk.word_tokenize(pred.lower()) for pred in predictions]\n",
    "        tokenized_references = [[nltk.word_tokenize(ref.lower())] for ref in fluent_texts]\n",
    "        bleu_score = load_metric(\"bleu\").compute(predictions=tokenized_predictions, references=tokenized_references)[\"bleu\"]\n",
    "\n",
    "        # Compute ROUGE score\n",
    "        rouge_scores = load_metric(\"rouge\").compute(predictions=predictions, references=fluent_texts)\n",
    "\n",
    "        # Compute BERTScore\n",
    "        bert_scorer = bert_score.BERTScorer(lang=\"en\", rescale_with_baseline=True)\n",
    "        _, _, F1 = bert_scorer.score(predictions, fluent_texts)\n",
    "        bert_f1 = F1.mean().item()\n",
    "\n",
    "        # Log metrics to MLflow\n",
    "        mlflow.log_metrics({\n",
    "            \"bleu\": bleu_score,\n",
    "            \"rouge1_fmeasure\": rouge_scores['rouge1'].mid.fmeasure,\n",
    "            \"rouge2_fmeasure\": rouge_scores['rouge2'].mid.fmeasure,\n",
    "            \"rougeL_fmeasure\": rouge_scores['rougeL'].mid.fmeasure,\n",
    "            \"bert_score_f1\": bert_f1\n",
    "        })\n",
    "\n",
    "        # Print to confirm logging of metrics\n",
    "        print(f\"\\n\\nbleu_score: {bleu_score}\\n rouge_scores: {rouge_scores['rougeL'].mid.fmeasure} \\n bert_f1: {bert_f1}\")\n",
    "        print(\"Metrics logged to MLflow successfully.\")\n"
   ]
  },
  {
   "cell_type": "markdown",
   "metadata": {},
   "source": [
    "## Training BART with orignial dataset"
   ]
  },
  {
   "cell_type": "code",
   "execution_count": 14,
   "metadata": {
    "colab": {
     "base_uri": "https://localhost:8080/",
     "height": 924
    },
    "id": "A_WwEsKDVxwl",
    "outputId": "28d6632a-6503-475e-f8dc-2dc907a73c67"
   },
   "outputs": [
    {
     "name": "stderr",
     "output_type": "stream",
     "text": [
      "/transformers/src/transformers/tokenization_utils_base.py:1601: FutureWarning: `clean_up_tokenization_spaces` was not set. It will be set to `True` by default. This behavior will be deprecated in transformers v4.45, and will be then set to `False` by default. For more details check this issue: https://github.com/huggingface/transformers/issues/31884\n",
      "  warnings.warn(\n",
      "2024/09/06 19:55:47 INFO mlflow.tracking.fluent: Experiment with name 'Disfluency_Correction_Experiment' does not exist. Creating a new experiment.\n"
     ]
    },
    {
     "data": {
      "text/html": [
       "\n",
       "    <div>\n",
       "      \n",
       "      <progress value='560' max='560' style='width:300px; height:20px; vertical-align: middle;'></progress>\n",
       "      [560/560 02:23, Epoch 5/5]\n",
       "    </div>\n",
       "    <table border=\"1\" class=\"dataframe\">\n",
       "  <thead>\n",
       " <tr style=\"text-align: left;\">\n",
       "      <th>Step</th>\n",
       "      <th>Training Loss</th>\n",
       "      <th>Validation Loss</th>\n",
       "    </tr>\n",
       "  </thead>\n",
       "  <tbody>\n",
       "    <tr>\n",
       "      <td>100</td>\n",
       "      <td>1.871900</td>\n",
       "      <td>0.107236</td>\n",
       "    </tr>\n",
       "    <tr>\n",
       "      <td>200</td>\n",
       "      <td>0.083600</td>\n",
       "      <td>0.078934</td>\n",
       "    </tr>\n",
       "    <tr>\n",
       "      <td>300</td>\n",
       "      <td>0.054600</td>\n",
       "      <td>0.077189</td>\n",
       "    </tr>\n",
       "    <tr>\n",
       "      <td>400</td>\n",
       "      <td>0.039000</td>\n",
       "      <td>0.078940</td>\n",
       "    </tr>\n",
       "    <tr>\n",
       "      <td>500</td>\n",
       "      <td>0.030000</td>\n",
       "      <td>0.080732</td>\n",
       "    </tr>\n",
       "  </tbody>\n",
       "</table><p>"
      ],
      "text/plain": [
       "<IPython.core.display.HTML object>"
      ]
     },
     "metadata": {},
     "output_type": "display_data"
    },
    {
     "name": "stderr",
     "output_type": "stream",
     "text": [
      "/transformers/src/transformers/modeling_utils.py:2577: UserWarning: Moving the following attributes in the config to the generation config: {'early_stopping': True, 'num_beams': 4, 'no_repeat_ngram_size': 3, 'forced_bos_token_id': 0}. You are seeing this warning because you've set generation parameters in the model config, as opposed to in the generation config.\n",
      "  warnings.warn(\n",
      "2024/09/06 19:58:15 WARNING mlflow.utils.requirements_utils: Found torch version (2.4.0+cu121) contains a local version label (+cu121). MLflow logged a pip requirement for this package as 'torch==2.4.0' without the local version label to make it installable from PyPI. To specify pip requirements containing local version labels, please use `conda_env` or `pip_requirements`.\n",
      "2024/09/06 19:58:20 WARNING mlflow.models.model: Input example should be provided to infer model signature if the model signature is not provided when logging the model.\n"
     ]
    },
    {
     "name": "stdout",
     "output_type": "stream",
     "text": [
      "Number of empty predictions: 0\n"
     ]
    },
    {
     "name": "stderr",
     "output_type": "stream",
     "text": [
      "/tmp/ipykernel_6695/4244272994.py:187: FutureWarning: load_metric is deprecated and will be removed in the next major version of datasets. Use 'evaluate.load' instead, from the new library 🤗 Evaluate: https://huggingface.co/docs/evaluate\n",
      "  bleu_score = load_metric(\"bleu\").compute(predictions=tokenized_predictions, references=tokenized_references)[\"bleu\"]\n",
      "/transformers/src/transformers/tokenization_utils_base.py:1601: FutureWarning: `clean_up_tokenization_spaces` was not set. It will be set to `True` by default. This behavior will be deprecated in transformers v4.45, and will be then set to `False` by default. For more details check this issue: https://github.com/huggingface/transformers/issues/31884\n",
      "  warnings.warn(\n",
      "Some weights of RobertaModel were not initialized from the model checkpoint at roberta-large and are newly initialized: ['roberta.pooler.dense.bias', 'roberta.pooler.dense.weight']\n",
      "You should probably TRAIN this model on a down-stream task to be able to use it for predictions and inference.\n"
     ]
    },
    {
     "name": "stdout",
     "output_type": "stream",
     "text": [
      "\n",
      "\n",
      "bleu_score: 0.8901177511668159\n",
      " rouge_scores: 0.9396827604642554 \n",
      " bert_f1: 0.9327864646911621\n",
      "Metrics logged to MLflow successfully.\n"
     ]
    },
    {
     "data": {
      "image/png": "[encoded data removed]",
      "text/plain": [
       "<Figure size 640x480 with 1 Axes>"
      ]
     },
     "metadata": {},
     "output_type": "display_data"
    }
   ],
   "source": [
    "trainer = BartDisfluencyTrainer(train_data, val_data, test_data, seed=42)\n",
    "trainer.train()"
   ]
  },
  {
   "cell_type": "code",
   "execution_count": 15,
   "metadata": {},
   "outputs": [
    {
     "name": "stdout",
     "output_type": "stream",
     "text": [
      "Number of empty predictions: 0\n"
     ]
    }
   ],
   "source": [
    "predictions = trainer.generate_predictions()\n",
    "\n",
    "original_texts = test_data[\"original\"].tolist()\n",
    "disfluent_texts = test_data[\"disfluent\"].tolist()\n",
    "\n",
    "result_df = pd.DataFrame({\n",
    "    \"Disfluent\": disfluent_texts,\n",
    "    \"Original (Fluent)\": original_texts,\n",
    "    \"Predictions (Fluent)\": predictions\n",
    "})\n",
    "\n",
    "result_df.to_csv('BART_RUN_1.csv')"
   ]
  },
  {
   "cell_type": "markdown",
   "metadata": {},
   "source": [
    "## Training BART with Augemented Data"
   ]
  },
  {
   "cell_type": "markdown",
   "metadata": {},
   "source": [
    "### Regularizing\n",
    "-  adding learning rate:-3e-5\n",
    "-  adding weight decay: 1e-4"
   ]
  },
  {
   "cell_type": "code",
   "execution_count": 17,
   "metadata": {},
   "outputs": [
    {
     "name": "stderr",
     "output_type": "stream",
     "text": [
      "/transformers/src/transformers/tokenization_utils_base.py:1601: FutureWarning: `clean_up_tokenization_spaces` was not set. It will be set to `True` by default. This behavior will be deprecated in transformers v4.45, and will be then set to `False` by default. For more details check this issue: https://github.com/huggingface/transformers/issues/31884\n",
      "  warnings.warn(\n"
     ]
    },
    {
     "data": {
      "text/html": [
       "\n",
       "    <div>\n",
       "      \n",
       "      <progress value='1120' max='1120' style='width:300px; height:20px; vertical-align: middle;'></progress>\n",
       "      [1120/1120 04:57, Epoch 5/5]\n",
       "    </div>\n",
       "    <table border=\"1\" class=\"dataframe\">\n",
       "  <thead>\n",
       " <tr style=\"text-align: left;\">\n",
       "      <th>Step</th>\n",
       "      <th>Training Loss</th>\n",
       "      <th>Validation Loss</th>\n",
       "    </tr>\n",
       "  </thead>\n",
       "  <tbody>\n",
       "    <tr>\n",
       "      <td>100</td>\n",
       "      <td>7.066400</td>\n",
       "      <td>2.580897</td>\n",
       "    </tr>\n",
       "    <tr>\n",
       "      <td>200</td>\n",
       "      <td>1.435000</td>\n",
       "      <td>0.380784</td>\n",
       "    </tr>\n",
       "    <tr>\n",
       "      <td>300</td>\n",
       "      <td>0.303100</td>\n",
       "      <td>0.280091</td>\n",
       "    </tr>\n",
       "    <tr>\n",
       "      <td>400</td>\n",
       "      <td>0.250700</td>\n",
       "      <td>0.256903</td>\n",
       "    </tr>\n",
       "    <tr>\n",
       "      <td>500</td>\n",
       "      <td>0.207900</td>\n",
       "      <td>0.253018</td>\n",
       "    </tr>\n",
       "    <tr>\n",
       "      <td>600</td>\n",
       "      <td>0.176400</td>\n",
       "      <td>0.244104</td>\n",
       "    </tr>\n",
       "    <tr>\n",
       "      <td>700</td>\n",
       "      <td>0.156300</td>\n",
       "      <td>0.243320</td>\n",
       "    </tr>\n",
       "    <tr>\n",
       "      <td>800</td>\n",
       "      <td>0.137100</td>\n",
       "      <td>0.243237</td>\n",
       "    </tr>\n",
       "    <tr>\n",
       "      <td>900</td>\n",
       "      <td>0.135300</td>\n",
       "      <td>0.240728</td>\n",
       "    </tr>\n",
       "    <tr>\n",
       "      <td>1000</td>\n",
       "      <td>0.117100</td>\n",
       "      <td>0.243387</td>\n",
       "    </tr>\n",
       "    <tr>\n",
       "      <td>1100</td>\n",
       "      <td>0.118000</td>\n",
       "      <td>0.242699</td>\n",
       "    </tr>\n",
       "  </tbody>\n",
       "</table><p>"
      ],
      "text/plain": [
       "<IPython.core.display.HTML object>"
      ]
     },
     "metadata": {},
     "output_type": "display_data"
    },
    {
     "name": "stderr",
     "output_type": "stream",
     "text": [
      "/transformers/src/transformers/modeling_utils.py:2577: UserWarning: Moving the following attributes in the config to the generation config: {'early_stopping': True, 'num_beams': 4, 'no_repeat_ngram_size': 3, 'forced_bos_token_id': 0}. You are seeing this warning because you've set generation parameters in the model config, as opposed to in the generation config.\n",
      "  warnings.warn(\n",
      "2024/09/06 20:16:02 WARNING mlflow.utils.requirements_utils: Found torch version (2.4.0+cu121) contains a local version label (+cu121). MLflow logged a pip requirement for this package as 'torch==2.4.0' without the local version label to make it installable from PyPI. To specify pip requirements containing local version labels, please use `conda_env` or `pip_requirements`.\n",
      "2024/09/06 20:16:05 WARNING mlflow.models.model: Input example should be provided to infer model signature if the model signature is not provided when logging the model.\n"
     ]
    },
    {
     "name": "stdout",
     "output_type": "stream",
     "text": [
      "Number of empty predictions: 0\n"
     ]
    },
    {
     "name": "stderr",
     "output_type": "stream",
     "text": [
      "/transformers/src/transformers/tokenization_utils_base.py:1601: FutureWarning: `clean_up_tokenization_spaces` was not set. It will be set to `True` by default. This behavior will be deprecated in transformers v4.45, and will be then set to `False` by default. For more details check this issue: https://github.com/huggingface/transformers/issues/31884\n",
      "  warnings.warn(\n",
      "Some weights of RobertaModel were not initialized from the model checkpoint at roberta-large and are newly initialized: ['roberta.pooler.dense.bias', 'roberta.pooler.dense.weight']\n",
      "You should probably TRAIN this model on a down-stream task to be able to use it for predictions and inference.\n"
     ]
    },
    {
     "name": "stdout",
     "output_type": "stream",
     "text": [
      "\n",
      "\n",
      "bleu_score: 0.6442007566818311\n",
      " rouge_scores: 0.8173656027731862 \n",
      " bert_f1: 0.821088969707489\n",
      "Metrics logged to MLflow successfully.\n"
     ]
    },
    {
     "data": {
      "image/png": "[encoded data removed]",
      "text/plain": [
       "<Figure size 640x480 with 1 Axes>"
      ]
     },
     "metadata": {},
     "output_type": "display_data"
    }
   ],
   "source": [
    "trainer = BartDisfluencyTrainer(train_aug, val_aug, test_aug, seed=42)\n",
    "trainer.train()"
   ]
  },
  {
   "cell_type": "markdown",
   "metadata": {},
   "source": [
    "### Regularizing with dropout \n",
    "- added dropout of 0.5\n"
   ]
  },
  {
   "cell_type": "code",
   "execution_count": 23,
   "metadata": {},
   "outputs": [
    {
     "name": "stderr",
     "output_type": "stream",
     "text": [
      "/transformers/src/transformers/tokenization_utils_base.py:1601: FutureWarning: `clean_up_tokenization_spaces` was not set. It will be set to `True` by default. This behavior will be deprecated in transformers v4.45, and will be then set to `False` by default. For more details check this issue: https://github.com/huggingface/transformers/issues/31884\n",
      "  warnings.warn(\n"
     ]
    },
    {
     "data": {
      "text/html": [
       "\n",
       "    <div>\n",
       "      \n",
       "      <progress value='1344' max='1344' style='width:300px; height:20px; vertical-align: middle;'></progress>\n",
       "      [1344/1344 05:58, Epoch 6/6]\n",
       "    </div>\n",
       "    <table border=\"1\" class=\"dataframe\">\n",
       "  <thead>\n",
       " <tr style=\"text-align: left;\">\n",
       "      <th>Step</th>\n",
       "      <th>Training Loss</th>\n",
       "      <th>Validation Loss</th>\n",
       "    </tr>\n",
       "  </thead>\n",
       "  <tbody>\n",
       "    <tr>\n",
       "      <td>100</td>\n",
       "      <td>12.621800</td>\n",
       "      <td>6.966658</td>\n",
       "    </tr>\n",
       "    <tr>\n",
       "      <td>200</td>\n",
       "      <td>6.287200</td>\n",
       "      <td>1.680008</td>\n",
       "    </tr>\n",
       "    <tr>\n",
       "      <td>300</td>\n",
       "      <td>2.732300</td>\n",
       "      <td>1.536859</td>\n",
       "    </tr>\n",
       "    <tr>\n",
       "      <td>400</td>\n",
       "      <td>2.175000</td>\n",
       "      <td>1.485663</td>\n",
       "    </tr>\n",
       "    <tr>\n",
       "      <td>500</td>\n",
       "      <td>2.017800</td>\n",
       "      <td>1.321906</td>\n",
       "    </tr>\n",
       "    <tr>\n",
       "      <td>600</td>\n",
       "      <td>1.925600</td>\n",
       "      <td>1.220514</td>\n",
       "    </tr>\n",
       "    <tr>\n",
       "      <td>700</td>\n",
       "      <td>1.865800</td>\n",
       "      <td>1.080338</td>\n",
       "    </tr>\n",
       "    <tr>\n",
       "      <td>800</td>\n",
       "      <td>1.798600</td>\n",
       "      <td>1.023590</td>\n",
       "    </tr>\n",
       "    <tr>\n",
       "      <td>900</td>\n",
       "      <td>1.765300</td>\n",
       "      <td>0.990719</td>\n",
       "    </tr>\n",
       "    <tr>\n",
       "      <td>1000</td>\n",
       "      <td>1.721600</td>\n",
       "      <td>0.966370</td>\n",
       "    </tr>\n",
       "    <tr>\n",
       "      <td>1100</td>\n",
       "      <td>1.703400</td>\n",
       "      <td>0.955883</td>\n",
       "    </tr>\n",
       "    <tr>\n",
       "      <td>1200</td>\n",
       "      <td>1.681500</td>\n",
       "      <td>0.944275</td>\n",
       "    </tr>\n",
       "    <tr>\n",
       "      <td>1300</td>\n",
       "      <td>1.669400</td>\n",
       "      <td>0.937866</td>\n",
       "    </tr>\n",
       "  </tbody>\n",
       "</table><p>"
      ],
      "text/plain": [
       "<IPython.core.display.HTML object>"
      ]
     },
     "metadata": {},
     "output_type": "display_data"
    },
    {
     "name": "stderr",
     "output_type": "stream",
     "text": [
      "/transformers/src/transformers/modeling_utils.py:2577: UserWarning: Moving the following attributes in the config to the generation config: {'early_stopping': True, 'num_beams': 4, 'no_repeat_ngram_size': 3, 'forced_bos_token_id': 0}. You are seeing this warning because you've set generation parameters in the model config, as opposed to in the generation config.\n",
      "  warnings.warn(\n",
      "2024/09/06 20:43:21 WARNING mlflow.utils.requirements_utils: Found torch version (2.4.0+cu121) contains a local version label (+cu121). MLflow logged a pip requirement for this package as 'torch==2.4.0' without the local version label to make it installable from PyPI. To specify pip requirements containing local version labels, please use `conda_env` or `pip_requirements`.\n",
      "2024/09/06 20:43:25 WARNING mlflow.models.model: Input example should be provided to infer model signature if the model signature is not provided when logging the model.\n"
     ]
    },
    {
     "name": "stdout",
     "output_type": "stream",
     "text": [
      "Number of empty predictions: 42\n"
     ]
    },
    {
     "name": "stderr",
     "output_type": "stream",
     "text": [
      "/transformers/src/transformers/tokenization_utils_base.py:1601: FutureWarning: `clean_up_tokenization_spaces` was not set. It will be set to `True` by default. This behavior will be deprecated in transformers v4.45, and will be then set to `False` by default. For more details check this issue: https://github.com/huggingface/transformers/issues/31884\n",
      "  warnings.warn(\n",
      "Some weights of RobertaModel were not initialized from the model checkpoint at roberta-large and are newly initialized: ['roberta.pooler.dense.bias', 'roberta.pooler.dense.weight']\n",
      "You should probably TRAIN this model on a down-stream task to be able to use it for predictions and inference.\n",
      "Warning: Empty candidate sentence detected; setting raw BERTscores to 0.\n",
      "Warning: Empty candidate sentence detected; setting raw BERTscores to 0.\n",
      "Warning: Empty candidate sentence detected; setting raw BERTscores to 0.\n",
      "Warning: Empty candidate sentence detected; setting raw BERTscores to 0.\n",
      "Warning: Empty candidate sentence detected; setting raw BERTscores to 0.\n",
      "Warning: Empty candidate sentence detected; setting raw BERTscores to 0.\n",
      "Warning: Empty candidate sentence detected; setting raw BERTscores to 0.\n",
      "Warning: Empty candidate sentence detected; setting raw BERTscores to 0.\n",
      "Warning: Empty candidate sentence detected; setting raw BERTscores to 0.\n",
      "Warning: Empty candidate sentence detected; setting raw BERTscores to 0.\n",
      "Warning: Empty candidate sentence detected; setting raw BERTscores to 0.\n",
      "Warning: Empty candidate sentence detected; setting raw BERTscores to 0.\n",
      "Warning: Empty candidate sentence detected; setting raw BERTscores to 0.\n",
      "Warning: Empty candidate sentence detected; setting raw BERTscores to 0.\n",
      "Warning: Empty candidate sentence detected; setting raw BERTscores to 0.\n",
      "Warning: Empty candidate sentence detected; setting raw BERTscores to 0.\n",
      "Warning: Empty candidate sentence detected; setting raw BERTscores to 0.\n",
      "Warning: Empty candidate sentence detected; setting raw BERTscores to 0.\n",
      "Warning: Empty candidate sentence detected; setting raw BERTscores to 0.\n",
      "Warning: Empty candidate sentence detected; setting raw BERTscores to 0.\n",
      "Warning: Empty candidate sentence detected; setting raw BERTscores to 0.\n",
      "Warning: Empty candidate sentence detected; setting raw BERTscores to 0.\n",
      "Warning: Empty candidate sentence detected; setting raw BERTscores to 0.\n",
      "Warning: Empty candidate sentence detected; setting raw BERTscores to 0.\n",
      "Warning: Empty candidate sentence detected; setting raw BERTscores to 0.\n",
      "Warning: Empty candidate sentence detected; setting raw BERTscores to 0.\n",
      "Warning: Empty candidate sentence detected; setting raw BERTscores to 0.\n",
      "Warning: Empty candidate sentence detected; setting raw BERTscores to 0.\n",
      "Warning: Empty candidate sentence detected; setting raw BERTscores to 0.\n",
      "Warning: Empty candidate sentence detected; setting raw BERTscores to 0.\n",
      "Warning: Empty candidate sentence detected; setting raw BERTscores to 0.\n"
     ]
    },
    {
     "name": "stdout",
     "output_type": "stream",
     "text": [
      "\n",
      "\n",
      "bleu_score: 0.01856579452053758\n",
      " rouge_scores: 0.184961962996957 \n",
      " bert_f1: 0.1535056084394455\n",
      "Metrics logged to MLflow successfully.\n"
     ]
    },
    {
     "data": {
      "image/png": "[encoded data removed]",
      "text/plain": [
       "<Figure size 640x480 with 1 Axes>"
      ]
     },
     "metadata": {},
     "output_type": "display_data"
    }
   ],
   "source": [
    "trainer_aug = BartDisfluencyTrainer(train_aug, val_aug, test_aug, seed=42)\n",
    "trainer_aug.train()"
   ]
  },
  {
   "cell_type": "markdown",
   "metadata": {
    "id": "ycChKlLmZD0c"
   },
   "source": [
    "## T5 Experimentation"
   ]
  },
  {
   "cell_type": "code",
   "execution_count": 24,
   "metadata": {
    "id": "dxMiGjkTcDVa"
   },
   "outputs": [],
   "source": [
    "from transformers import T5ForConditionalGeneration, T5Tokenizer, Trainer, TrainingArguments"
   ]
  },
  {
   "cell_type": "code",
   "execution_count": 33,
   "metadata": {
    "id": "JXOIzru0ZGwo"
   },
   "outputs": [],
   "source": [
    "# Define the trainer class for T5\n",
    "class T5Trainer:\n",
    "    def __init__(self, train_df, val_df, test_df, model_name=\"t5-small\", run_name=\"T5_Run_2\", seed=42):\n",
    "        self.train_df = train_df\n",
    "        self.val_df = val_df\n",
    "        self.test_df = test_df\n",
    "        self.model_name = model_name\n",
    "        self.run_name = run_name\n",
    "        self.seed = seed\n",
    "\n",
    "        # Initialize model and tokenizer\n",
    "        self.model = T5ForConditionalGeneration.from_pretrained(self.model_name)\n",
    "        self.tokenizer = T5Tokenizer.from_pretrained(self.model_name)\n",
    "\n",
    "        # Initialize MLflow experiment\n",
    "        mlflow.set_experiment(\"Disfluency_Correction_Experiment\")\n",
    "\n",
    "    def set_seed(self):\n",
    "        set_seed(self.seed)\n",
    "        random.seed(self.seed)\n",
    "        np.random.seed(self.seed)\n",
    "        torch.manual_seed(self.seed)\n",
    "        if torch.cuda.is_available():\n",
    "            torch.cuda.manual_seed_all(self.seed)\n",
    "\n",
    "    def tokenize_data(self, df):\n",
    "        # Tokenize the disfluent and fluent sentences\n",
    "        disfluent_encodings = self.tokenizer(df['disfluent'].tolist(), truncation=True, padding=True, max_length=128, return_tensors=\"pt\")\n",
    "        fluent_encodings = self.tokenizer(df['original'].tolist(), truncation=True, padding=True, max_length=128, return_tensors=\"pt\")\n",
    "        disfluent_encodings['labels'] = fluent_encodings['input_ids']\n",
    "        return disfluent_encodings\n",
    "\n",
    "    def prepare_datasets(self):\n",
    "        # Prepare the training and validation datasets\n",
    "        train_encodings = self.tokenize_data(self.train_df)\n",
    "        val_encodings = self.tokenize_data(self.val_df)\n",
    "        return DisfluencyDataset(train_encodings), DisfluencyDataset(val_encodings)\n",
    "\n",
    "    def train(self):\n",
    "        # Prepare datasets\n",
    "        train_dataset, val_dataset = self.prepare_datasets()\n",
    "\n",
    "        # Set training arguments\n",
    "        training_args = TrainingArguments(\n",
    "            output_dir='./results',\n",
    "            num_train_epochs=6,\n",
    "            per_device_train_batch_size=64,\n",
    "            per_device_eval_batch_size=64,\n",
    "            eval_strategy=\"steps\",\n",
    "            eval_steps=100,\n",
    "            logging_dir='./logs',\n",
    "            logging_steps=100,\n",
    "            save_steps=200,\n",
    "            save_total_limit=2,\n",
    "            report_to=\"none\",\n",
    "            seed=self.seed,\n",
    "            learning_rate=3e-5,              \n",
    "            warmup_steps=400,                \n",
    "            lr_scheduler_type=\"linear\",\n",
    "            run_name=self.run_name,\n",
    "            #weight_decay=1e-4\n",
    "        )\n",
    "\n",
    "        # Start an MLflow run and train the model\n",
    "        with mlflow.start_run():\n",
    "            mlflow.set_tag(\"mlflow.runName\", self.run_name)\n",
    "\n",
    "            trainer = Trainer(\n",
    "                model=self.model,\n",
    "                args=training_args,\n",
    "                train_dataset=train_dataset,\n",
    "                eval_dataset=val_dataset,\n",
    "            )\n",
    "\n",
    "            # Log hyperparameters to MLflow\n",
    "            mlflow.log_params({\n",
    "                \"model_name\": self.model_name,\n",
    "                \"num_train_epochs\": training_args.num_train_epochs,\n",
    "                \"batch_size\": training_args.per_device_train_batch_size,\n",
    "                \"eval_batch_size\": training_args.per_device_eval_batch_size,\n",
    "                \"learning_rate\": training_args.learning_rate,\n",
    "                \"warmup_steps\": training_args.warmup_steps,\n",
    "                \"run_name\": training_args.run_name,\n",
    "                \"seed\": training_args.seed,\n",
    "            })\n",
    "\n",
    "            # Train the model\n",
    "            trainer.train()\n",
    "\n",
    "            # Log the trained model to MLflow\n",
    "            mlflow.pytorch.log_model(self.model, \"T5_Model_2\")\n",
    "\n",
    "            # Plot and log training loss\n",
    "            self.plot_and_log_loss(trainer.state.log_history)\n",
    "\n",
    "            # Generate predictions and log metrics inside the same run\n",
    "            predictions = self.generate_predictions()\n",
    "            self.evaluate_and_log_metrics(predictions)\n",
    "\n",
    "    def plot_and_log_loss(self, logs):\n",
    "        # Extract training and evaluation losses\n",
    "        train_losses = [log['loss'] for log in logs if 'loss' in log]\n",
    "        eval_losses = [log['eval_loss'] for log in logs if 'eval_loss' in log]\n",
    "\n",
    "        # Plot losses\n",
    "        plt.figure()\n",
    "        plt.plot(train_losses, label='Training Loss')\n",
    "        if eval_losses:\n",
    "            plt.plot(eval_losses, label='Validation Loss')\n",
    "        plt.xlabel(\"Steps\")\n",
    "        plt.ylabel(\"Loss\")\n",
    "        plt.title(\"Training and Validation Loss\")\n",
    "        plt.legend()\n",
    "        plt.grid(True)\n",
    "\n",
    "        # Save plot\n",
    "        plot_path = f\"{self.run_name}_loss_plot.png\"\n",
    "        plt.savefig(plot_path)\n",
    "\n",
    "        # Log loss plot as artifact\n",
    "        mlflow.log_artifact(plot_path)\n",
    "\n",
    "    def generate_predictions(self, batch_size=16):\n",
    "        # Generate predictions on the test dataset\n",
    "        disfluent_texts = self.test_df[\"disfluent\"].tolist()\n",
    "        predictions = []\n",
    "\n",
    "        # Process texts in batches\n",
    "        for i in range(0, len(disfluent_texts), batch_size):\n",
    "            batch_texts = disfluent_texts[i:i + batch_size]\n",
    "\n",
    "            # Tokenize the batch\n",
    "            inputs = self.tokenizer(\n",
    "                batch_texts,\n",
    "                return_tensors=\"pt\",\n",
    "                max_length=128,\n",
    "                truncation=True,\n",
    "                padding=\"max_length\"\n",
    "            ).to(self.model.device)\n",
    "\n",
    "            # Generate predictions with adjusted parameters\n",
    "            with torch.no_grad():\n",
    "                outputs = self.model.generate(\n",
    "                    input_ids=inputs[\"input_ids\"],\n",
    "                    attention_mask=inputs[\"attention_mask\"],\n",
    "                    max_length=128,\n",
    "                    num_beams=4,  # Beam search to generate diverse outputs\n",
    "                    early_stopping=True,\n",
    "                    no_repeat_ngram_size=2  # Prevent repetitive n-grams\n",
    "                )\n",
    "\n",
    "            # Decode predictions\n",
    "            batch_predictions = [self.tokenizer.decode(g, skip_special_tokens=True).strip() for g in outputs]\n",
    "            predictions.extend(batch_predictions)\n",
    "\n",
    "        # Check for empty predictions\n",
    "        empty_predictions = [pred for pred in predictions if pred.strip() == \"\"]\n",
    "        print(f\"Number of empty predictions: {len(empty_predictions)}\")\n",
    "\n",
    "        return predictions\n",
    "\n",
    "    def evaluate_and_log_metrics(self, predictions):\n",
    "        # Evaluate predictions using BLEU, ROUGE, and BERTScore\n",
    "        fluent_texts = self.test_df[\"original\"].tolist()\n",
    "\n",
    "        # Check if all predictions are empty\n",
    "        if all(pred.strip() == \"\" for pred in predictions):\n",
    "            print(\"All predictions are empty! Skipping BLEU and ROUGE computation.\")\n",
    "            mlflow.log_metrics({\n",
    "                \"bleu\": 0,\n",
    "                \"rouge1_fmeasure\": 0,\n",
    "                \"rouge2_fmeasure\": 0,\n",
    "                \"rougeL_fmeasure\": 0,\n",
    "                \"bert_score_f1\": 0\n",
    "            })\n",
    "            return\n",
    "\n",
    "        # Compute BLEU score\n",
    "        tokenized_predictions = [nltk.word_tokenize(pred.lower()) for pred in predictions]\n",
    "        tokenized_references = [[nltk.word_tokenize(ref.lower())] for ref in fluent_texts]\n",
    "        bleu_score = load_metric(\"bleu\").compute(predictions=tokenized_predictions, references=tokenized_references)[\"bleu\"]\n",
    "\n",
    "        # Compute ROUGE score\n",
    "        rouge_scores = load_metric(\"rouge\").compute(predictions=predictions, references=fluent_texts)\n",
    "\n",
    "        # Compute BERTScore\n",
    "        bert_scorer = bert_score.BERTScorer(lang=\"en\", rescale_with_baseline=True)\n",
    "        _, _, F1 = bert_scorer.score(predictions, fluent_texts)\n",
    "        bert_f1 = F1.mean().item()\n",
    "\n",
    "        # Log metrics to MLflow\n",
    "        mlflow.log_metrics({\n",
    "            \"bleu\": bleu_score,\n",
    "            \"rouge1_fmeasure\": rouge_scores['rouge1'].mid.fmeasure,\n",
    "            \"rouge2_fmeasure\": rouge_scores['rouge2'].mid.fmeasure,\n",
    "            \"rougeL_fmeasure\": rouge_scores['rougeL'].mid.fmeasure,\n",
    "            \"bert_score_f1\": bert_f1\n",
    "        })\n",
    "\n",
    "        # Print to confirm logging of metrics\n",
    "        print(f\"\\n\\nbleu_score: {bleu_score}\\n rouge_scores: {rouge_scores['rougeL'].mid.fmeasure} \\n bert_f1: {bert_f1}\")\n",
    "        print(\"Metrics logged to MLflow successfully.\")\n"
   ]
  },
  {
   "cell_type": "markdown",
   "metadata": {},
   "source": [
    "## Training T5 with Original dataset"
   ]
  },
  {
   "cell_type": "code",
   "execution_count": 30,
   "metadata": {
    "colab": {
     "base_uri": "https://localhost:8080/",
     "height": 912
    },
    "id": "RXqtXsW4ZGt0",
    "outputId": "4b155e38-affe-41a1-dffc-7ff50b13aec0"
   },
   "outputs": [
    {
     "data": {
      "text/html": [
       "\n",
       "    <div>\n",
       "      \n",
       "      <progress value='448' max='448' style='width:300px; height:20px; vertical-align: middle;'></progress>\n",
       "      [448/448 01:04, Epoch 4/4]\n",
       "    </div>\n",
       "    <table border=\"1\" class=\"dataframe\">\n",
       "  <thead>\n",
       " <tr style=\"text-align: left;\">\n",
       "      <th>Step</th>\n",
       "      <th>Training Loss</th>\n",
       "      <th>Validation Loss</th>\n",
       "    </tr>\n",
       "  </thead>\n",
       "  <tbody>\n",
       "    <tr>\n",
       "      <td>100</td>\n",
       "      <td>1.689600</td>\n",
       "      <td>0.178223</td>\n",
       "    </tr>\n",
       "    <tr>\n",
       "      <td>200</td>\n",
       "      <td>0.182500</td>\n",
       "      <td>0.120228</td>\n",
       "    </tr>\n",
       "    <tr>\n",
       "      <td>300</td>\n",
       "      <td>0.141700</td>\n",
       "      <td>0.109641</td>\n",
       "    </tr>\n",
       "    <tr>\n",
       "      <td>400</td>\n",
       "      <td>0.128100</td>\n",
       "      <td>0.105612</td>\n",
       "    </tr>\n",
       "  </tbody>\n",
       "</table><p>"
      ],
      "text/plain": [
       "<IPython.core.display.HTML object>"
      ]
     },
     "metadata": {},
     "output_type": "display_data"
    },
    {
     "name": "stderr",
     "output_type": "stream",
     "text": [
      "2024/09/06 20:57:11 WARNING mlflow.utils.requirements_utils: Found torch version (2.4.0+cu121) contains a local version label (+cu121). MLflow logged a pip requirement for this package as 'torch==2.4.0' without the local version label to make it installable from PyPI. To specify pip requirements containing local version labels, please use `conda_env` or `pip_requirements`.\n",
      "2024/09/06 20:57:15 WARNING mlflow.models.model: Input example should be provided to infer model signature if the model signature is not provided when logging the model.\n"
     ]
    },
    {
     "name": "stdout",
     "output_type": "stream",
     "text": [
      "Number of empty predictions: 0\n"
     ]
    },
    {
     "name": "stderr",
     "output_type": "stream",
     "text": [
      "/transformers/src/transformers/tokenization_utils_base.py:1601: FutureWarning: `clean_up_tokenization_spaces` was not set. It will be set to `True` by default. This behavior will be deprecated in transformers v4.45, and will be then set to `False` by default. For more details check this issue: https://github.com/huggingface/transformers/issues/31884\n",
      "  warnings.warn(\n",
      "Some weights of RobertaModel were not initialized from the model checkpoint at roberta-large and are newly initialized: ['roberta.pooler.dense.bias', 'roberta.pooler.dense.weight']\n",
      "You should probably TRAIN this model on a down-stream task to be able to use it for predictions and inference.\n"
     ]
    },
    {
     "name": "stdout",
     "output_type": "stream",
     "text": [
      "\n",
      "\n",
      "bleu_score: 0.7973653683057658\n",
      " rouge_scores: 0.8913863217752955 \n",
      " bert_f1: 0.8701449036598206\n",
      "Metrics logged to MLflow successfully.\n"
     ]
    },
    {
     "data": {
      "image/png": "[encoded data removed]",
      "text/plain": [
       "<Figure size 640x480 with 1 Axes>"
      ]
     },
     "metadata": {},
     "output_type": "display_data"
    }
   ],
   "source": [
    "trainer = T5Trainer(train_data, val_data, test_data, seed=42)\n",
    "trainer.train()"
   ]
  },
  {
   "cell_type": "markdown",
   "metadata": {},
   "source": [
    "## Training T5 with augmented datset"
   ]
  },
  {
   "cell_type": "code",
   "execution_count": 32,
   "metadata": {
    "id": "10R6HOmVZGrU"
   },
   "outputs": [
    {
     "data": {
      "text/html": [
       "\n",
       "    <div>\n",
       "      \n",
       "      <progress value='896' max='896' style='width:300px; height:20px; vertical-align: middle;'></progress>\n",
       "      [896/896 02:08, Epoch 4/4]\n",
       "    </div>\n",
       "    <table border=\"1\" class=\"dataframe\">\n",
       "  <thead>\n",
       " <tr style=\"text-align: left;\">\n",
       "      <th>Step</th>\n",
       "      <th>Training Loss</th>\n",
       "      <th>Validation Loss</th>\n",
       "    </tr>\n",
       "  </thead>\n",
       "  <tbody>\n",
       "    <tr>\n",
       "      <td>100</td>\n",
       "      <td>1.959000</td>\n",
       "      <td>0.198539</td>\n",
       "    </tr>\n",
       "    <tr>\n",
       "      <td>200</td>\n",
       "      <td>0.462000</td>\n",
       "      <td>0.147068</td>\n",
       "    </tr>\n",
       "    <tr>\n",
       "      <td>300</td>\n",
       "      <td>0.399800</td>\n",
       "      <td>0.129183</td>\n",
       "    </tr>\n",
       "    <tr>\n",
       "      <td>400</td>\n",
       "      <td>0.382700</td>\n",
       "      <td>0.122020</td>\n",
       "    </tr>\n",
       "    <tr>\n",
       "      <td>500</td>\n",
       "      <td>0.370800</td>\n",
       "      <td>0.114681</td>\n",
       "    </tr>\n",
       "    <tr>\n",
       "      <td>600</td>\n",
       "      <td>0.361600</td>\n",
       "      <td>0.112999</td>\n",
       "    </tr>\n",
       "    <tr>\n",
       "      <td>700</td>\n",
       "      <td>0.347000</td>\n",
       "      <td>0.110001</td>\n",
       "    </tr>\n",
       "    <tr>\n",
       "      <td>800</td>\n",
       "      <td>0.349100</td>\n",
       "      <td>0.109011</td>\n",
       "    </tr>\n",
       "  </tbody>\n",
       "</table><p>"
      ],
      "text/plain": [
       "<IPython.core.display.HTML object>"
      ]
     },
     "metadata": {},
     "output_type": "display_data"
    },
    {
     "name": "stderr",
     "output_type": "stream",
     "text": [
      "2024/09/06 21:09:17 WARNING mlflow.utils.requirements_utils: Found torch version (2.4.0+cu121) contains a local version label (+cu121). MLflow logged a pip requirement for this package as 'torch==2.4.0' without the local version label to make it installable from PyPI. To specify pip requirements containing local version labels, please use `conda_env` or `pip_requirements`.\n",
      "2024/09/06 21:09:21 WARNING mlflow.models.model: Input example should be provided to infer model signature if the model signature is not provided when logging the model.\n"
     ]
    },
    {
     "name": "stdout",
     "output_type": "stream",
     "text": [
      "Number of empty predictions: 0\n"
     ]
    },
    {
     "name": "stderr",
     "output_type": "stream",
     "text": [
      "/transformers/src/transformers/tokenization_utils_base.py:1601: FutureWarning: `clean_up_tokenization_spaces` was not set. It will be set to `True` by default. This behavior will be deprecated in transformers v4.45, and will be then set to `False` by default. For more details check this issue: https://github.com/huggingface/transformers/issues/31884\n",
      "  warnings.warn(\n",
      "Some weights of RobertaModel were not initialized from the model checkpoint at roberta-large and are newly initialized: ['roberta.pooler.dense.bias', 'roberta.pooler.dense.weight']\n",
      "You should probably TRAIN this model on a down-stream task to be able to use it for predictions and inference.\n"
     ]
    },
    {
     "name": "stdout",
     "output_type": "stream",
     "text": [
      "\n",
      "\n",
      "bleu_score: 0.752045305911592\n",
      " rouge_scores: 0.8783404626195099 \n",
      " bert_f1: 0.8554674983024597\n",
      "Metrics logged to MLflow successfully.\n"
     ]
    },
    {
     "data": {
      "image/png": "[encoded data removed]",
      "text/plain": [
       "<Figure size 640x480 with 1 Axes>"
      ]
     },
     "metadata": {},
     "output_type": "display_data"
    }
   ],
   "source": [
    "trainer = T5Trainer(train_aug, val_data, test_data, seed=42)\n",
    "trainer.train()"
   ]
  },
  {
   "cell_type": "code",
   "execution_count": null,
   "metadata": {},
   "outputs": [],
   "source": []
  },
  {
   "cell_type": "code",
   "execution_count": 34,
   "metadata": {
    "id": "yQW0gNMZV2Nn"
   },
   "outputs": [
    {
     "data": {
      "text/html": [
       "\n",
       "    <div>\n",
       "      \n",
       "      <progress value='1344' max='1344' style='width:300px; height:20px; vertical-align: middle;'></progress>\n",
       "      [1344/1344 03:19, Epoch 6/6]\n",
       "    </div>\n",
       "    <table border=\"1\" class=\"dataframe\">\n",
       "  <thead>\n",
       " <tr style=\"text-align: left;\">\n",
       "      <th>Step</th>\n",
       "      <th>Training Loss</th>\n",
       "      <th>Validation Loss</th>\n",
       "    </tr>\n",
       "  </thead>\n",
       "  <tbody>\n",
       "    <tr>\n",
       "      <td>100</td>\n",
       "      <td>2.819500</td>\n",
       "      <td>0.786322</td>\n",
       "    </tr>\n",
       "    <tr>\n",
       "      <td>200</td>\n",
       "      <td>0.609300</td>\n",
       "      <td>0.437596</td>\n",
       "    </tr>\n",
       "    <tr>\n",
       "      <td>300</td>\n",
       "      <td>0.445100</td>\n",
       "      <td>0.402701</td>\n",
       "    </tr>\n",
       "    <tr>\n",
       "      <td>400</td>\n",
       "      <td>0.417100</td>\n",
       "      <td>0.385489</td>\n",
       "    </tr>\n",
       "    <tr>\n",
       "      <td>500</td>\n",
       "      <td>0.401000</td>\n",
       "      <td>0.374268</td>\n",
       "    </tr>\n",
       "    <tr>\n",
       "      <td>600</td>\n",
       "      <td>0.388200</td>\n",
       "      <td>0.365007</td>\n",
       "    </tr>\n",
       "    <tr>\n",
       "      <td>700</td>\n",
       "      <td>0.370700</td>\n",
       "      <td>0.359138</td>\n",
       "    </tr>\n",
       "    <tr>\n",
       "      <td>800</td>\n",
       "      <td>0.370100</td>\n",
       "      <td>0.355630</td>\n",
       "    </tr>\n",
       "    <tr>\n",
       "      <td>900</td>\n",
       "      <td>0.366600</td>\n",
       "      <td>0.350663</td>\n",
       "    </tr>\n",
       "    <tr>\n",
       "      <td>1000</td>\n",
       "      <td>0.357100</td>\n",
       "      <td>0.348576</td>\n",
       "    </tr>\n",
       "    <tr>\n",
       "      <td>1100</td>\n",
       "      <td>0.360300</td>\n",
       "      <td>0.346376</td>\n",
       "    </tr>\n",
       "    <tr>\n",
       "      <td>1200</td>\n",
       "      <td>0.360000</td>\n",
       "      <td>0.345159</td>\n",
       "    </tr>\n",
       "    <tr>\n",
       "      <td>1300</td>\n",
       "      <td>0.349400</td>\n",
       "      <td>0.344351</td>\n",
       "    </tr>\n",
       "  </tbody>\n",
       "</table><p>"
      ],
      "text/plain": [
       "<IPython.core.display.HTML object>"
      ]
     },
     "metadata": {},
     "output_type": "display_data"
    },
    {
     "name": "stderr",
     "output_type": "stream",
     "text": [
      "2024/09/06 21:33:57 WARNING mlflow.utils.requirements_utils: Found torch version (2.4.0+cu121) contains a local version label (+cu121). MLflow logged a pip requirement for this package as 'torch==2.4.0' without the local version label to make it installable from PyPI. To specify pip requirements containing local version labels, please use `conda_env` or `pip_requirements`.\n",
      "2024/09/06 21:34:01 WARNING mlflow.models.model: Input example should be provided to infer model signature if the model signature is not provided when logging the model.\n"
     ]
    },
    {
     "name": "stdout",
     "output_type": "stream",
     "text": [
      "Number of empty predictions: 0\n"
     ]
    },
    {
     "name": "stderr",
     "output_type": "stream",
     "text": [
      "/transformers/src/transformers/tokenization_utils_base.py:1601: FutureWarning: `clean_up_tokenization_spaces` was not set. It will be set to `True` by default. This behavior will be deprecated in transformers v4.45, and will be then set to `False` by default. For more details check this issue: https://github.com/huggingface/transformers/issues/31884\n",
      "  warnings.warn(\n",
      "Some weights of RobertaModel were not initialized from the model checkpoint at roberta-large and are newly initialized: ['roberta.pooler.dense.bias', 'roberta.pooler.dense.weight']\n",
      "You should probably TRAIN this model on a down-stream task to be able to use it for predictions and inference.\n"
     ]
    },
    {
     "name": "stdout",
     "output_type": "stream",
     "text": [
      "\n",
      "\n",
      "bleu_score: 0.5508205891352658\n",
      " rouge_scores: 0.7797002598823829 \n",
      " bert_f1: 0.735930860042572\n",
      "Metrics logged to MLflow successfully.\n"
     ]
    },
    {
     "data": {
      "image/png": "[encoded data removed]",
      "text/plain": [
       "<Figure size 640x480 with 1 Axes>"
      ]
     },
     "metadata": {},
     "output_type": "display_data"
    }
   ],
   "source": [
    "### increasing epochs\n",
    "trainer = T5Trainer(train_aug, val_aug, test_aug, seed=42)\n",
    "trainer.train()"
   ]
  },
  {
   "cell_type": "code",
   "execution_count": null,
   "metadata": {},
   "outputs": [],
   "source": []
  }
 ],
 "metadata": {
  "accelerator": "GPU",
  "colab": {
   "gpuType": "T4",
   "provenance": []
  },
  "kernelspec": {
   "display_name": "Python 3 (ipykernel)",
   "language": "python",
   "name": "python3"
  },
  "language_info": {
   "codemirror_mode": {
    "name": "ipython",
    "version": 3
   },
   "file_extension": ".py",
   "mimetype": "text/x-python",
   "name": "python",
   "nbconvert_exporter": "python",
   "pygments_lexer": "ipython3",
   "version": "3.8.10"
  }
 },
 "nbformat": 4,
 "nbformat_minor": 4
}
