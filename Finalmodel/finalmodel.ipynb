{
  "nbformat": 4,
  "nbformat_minor": 0,
  "metadata": {
    "colab": {
      "provenance": [],
      "machine_shape": "hm",
      "gpuType": "L4"
    },
    "kernelspec": {
      "name": "python3",
      "display_name": "Python 3"
    },
    "language_info": {
      "name": "python"
    },
    "accelerator": "GPU"
  },
  "cells": [
    {
      "cell_type": "code",
      "source": [
        "!pip -q install bert_score bleu rouge_score mlflow datasets"
      ],
      "metadata": {
        "colab": {
          "base_uri": "https://localhost:8080/"
        },
        "id": "Ituc_aSpnUAD",
        "outputId": "09b8acdc-2363-4bde-ffe4-834af1b0f443"
      },
      "execution_count": 1,
      "outputs": [
        {
          "output_type": "stream",
          "name": "stdout",
          "text": [
            "  Preparing metadata (setup.py) ... \u001b[?25l\u001b[?25hdone\n",
            "  Preparing metadata (setup.py) ... \u001b[?25l\u001b[?25hdone\n",
            "\u001b[2K   \u001b[90m━━━━━━━━━━━━━━━━━━━━━━━━━━━━━━━━━━━━━━━━\u001b[0m \u001b[32m61.1/61.1 kB\u001b[0m \u001b[31m3.3 MB/s\u001b[0m eta \u001b[36m0:00:00\u001b[0m\n",
            "\u001b[2K   \u001b[90m━━━━━━━━━━━━━━━━━━━━━━━━━━━━━━━━━━━━━━━━\u001b[0m \u001b[32m26.6/26.6 MB\u001b[0m \u001b[31m67.8 MB/s\u001b[0m eta \u001b[36m0:00:00\u001b[0m\n",
            "\u001b[2K   \u001b[90m━━━━━━━━━━━━━━━━━━━━━━━━━━━━━━━━━━━━━━━━\u001b[0m \u001b[32m5.6/5.6 MB\u001b[0m \u001b[31m70.8 MB/s\u001b[0m eta \u001b[36m0:00:00\u001b[0m\n",
            "\u001b[2K   \u001b[90m━━━━━━━━━━━━━━━━━━━━━━━━━━━━━━━━━━━━━━━━\u001b[0m \u001b[32m527.3/527.3 kB\u001b[0m \u001b[31m31.5 MB/s\u001b[0m eta \u001b[36m0:00:00\u001b[0m\n",
            "\u001b[2K   \u001b[90m━━━━━━━━━━━━━━━━━━━━━━━━━━━━━━━━━━━━━━━━\u001b[0m \u001b[32m233.0/233.0 kB\u001b[0m \u001b[31m16.6 MB/s\u001b[0m eta \u001b[36m0:00:00\u001b[0m\n",
            "\u001b[2K   \u001b[90m━━━━━━━━━━━━━━━━━━━━━━━━━━━━━━━━━━━━━━━━\u001b[0m \u001b[32m116.3/116.3 kB\u001b[0m \u001b[31m3.6 MB/s\u001b[0m eta \u001b[36m0:00:00\u001b[0m\n",
            "\u001b[2K   \u001b[90m━━━━━━━━━━━━━━━━━━━━━━━━━━━━━━━━━━━━━━━━\u001b[0m \u001b[32m147.8/147.8 kB\u001b[0m \u001b[31m11.9 MB/s\u001b[0m eta \u001b[36m0:00:00\u001b[0m\n",
            "\u001b[2K   \u001b[90m━━━━━━━━━━━━━━━━━━━━━━━━━━━━━━━━━━━━━━━━\u001b[0m \u001b[32m128.2/128.2 kB\u001b[0m \u001b[31m4.1 MB/s\u001b[0m eta \u001b[36m0:00:00\u001b[0m\n",
            "\u001b[2K   \u001b[90m━━━━━━━━━━━━━━━━━━━━━━━━━━━━━━━━━━━━━━━━\u001b[0m \u001b[32m85.0/85.0 kB\u001b[0m \u001b[31m2.0 MB/s\u001b[0m eta \u001b[36m0:00:00\u001b[0m\n",
            "\u001b[2K   \u001b[90m━━━━━━━━━━━━━━━━━━━━━━━━━━━━━━━━━━━━━━━━\u001b[0m \u001b[32m39.9/39.9 MB\u001b[0m \u001b[31m46.9 MB/s\u001b[0m eta \u001b[36m0:00:00\u001b[0m\n",
            "\u001b[2K   \u001b[90m━━━━━━━━━━━━━━━━━━━━━━━━━━━━━━━━━━━━━━━━\u001b[0m \u001b[32m134.8/134.8 kB\u001b[0m \u001b[31m7.9 MB/s\u001b[0m eta \u001b[36m0:00:00\u001b[0m\n",
            "\u001b[2K   \u001b[90m━━━━━━━━━━━━━━━━━━━━━━━━━━━━━━━━━━━━━━━━\u001b[0m \u001b[32m194.1/194.1 kB\u001b[0m \u001b[31m12.6 MB/s\u001b[0m eta \u001b[36m0:00:00\u001b[0m\n",
            "\u001b[2K   \u001b[90m━━━━━━━━━━━━━━━━━━━━━━━━━━━━━━━━━━━━━━━━\u001b[0m \u001b[32m52.8/52.8 kB\u001b[0m \u001b[31m3.1 MB/s\u001b[0m eta \u001b[36m0:00:00\u001b[0m\n",
            "\u001b[2K   \u001b[90m━━━━━━━━━━━━━━━━━━━━━━━━━━━━━━━━━━━━━━━━\u001b[0m \u001b[32m552.0/552.0 kB\u001b[0m \u001b[31m31.2 MB/s\u001b[0m eta \u001b[36m0:00:00\u001b[0m\n",
            "\u001b[2K   \u001b[90m━━━━━━━━━━━━━━━━━━━━━━━━━━━━━━━━━━━━━━━━\u001b[0m \u001b[32m207.3/207.3 kB\u001b[0m \u001b[31m15.7 MB/s\u001b[0m eta \u001b[36m0:00:00\u001b[0m\n",
            "\u001b[2K   \u001b[90m━━━━━━━━━━━━━━━━━━━━━━━━━━━━━━━━━━━━━━━━\u001b[0m \u001b[32m203.2/203.2 kB\u001b[0m \u001b[31m13.0 MB/s\u001b[0m eta \u001b[36m0:00:00\u001b[0m\n",
            "\u001b[2K   \u001b[90m━━━━━━━━━━━━━━━━━━━━━━━━━━━━━━━━━━━━━━━━\u001b[0m \u001b[32m64.0/64.0 kB\u001b[0m \u001b[31m5.1 MB/s\u001b[0m eta \u001b[36m0:00:00\u001b[0m\n",
            "\u001b[2K   \u001b[90m━━━━━━━━━━━━━━━━━━━━━━━━━━━━━━━━━━━━━━━━\u001b[0m \u001b[32m110.5/110.5 kB\u001b[0m \u001b[31m8.2 MB/s\u001b[0m eta \u001b[36m0:00:00\u001b[0m\n",
            "\u001b[2K   \u001b[90m━━━━━━━━━━━━━━━━━━━━━━━━━━━━━━━━━━━━━━━━\u001b[0m \u001b[32m149.7/149.7 kB\u001b[0m \u001b[31m8.2 MB/s\u001b[0m eta \u001b[36m0:00:00\u001b[0m\n",
            "\u001b[2K   \u001b[90m━━━━━━━━━━━━━━━━━━━━━━━━━━━━━━━━━━━━━━━━\u001b[0m \u001b[32m78.6/78.6 kB\u001b[0m \u001b[31m4.9 MB/s\u001b[0m eta \u001b[36m0:00:00\u001b[0m\n",
            "\u001b[2K   \u001b[90m━━━━━━━━━━━━━━━━━━━━━━━━━━━━━━━━━━━━━━━━\u001b[0m \u001b[32m62.7/62.7 kB\u001b[0m \u001b[31m4.6 MB/s\u001b[0m eta \u001b[36m0:00:00\u001b[0m\n",
            "\u001b[?25h  Building wheel for bleu (setup.py) ... \u001b[?25l\u001b[?25hdone\n",
            "  Building wheel for rouge_score (setup.py) ... \u001b[?25l\u001b[?25hdone\n",
            "\u001b[31mERROR: pip's dependency resolver does not currently take into account all the packages that are installed. This behaviour is the source of the following dependency conflicts.\n",
            "cudf-cu12 24.4.1 requires pyarrow<15.0.0a0,>=14.0.1, but you have pyarrow 17.0.0 which is incompatible.\n",
            "ibis-framework 8.0.0 requires pyarrow<16,>=2, but you have pyarrow 17.0.0 which is incompatible.\u001b[0m\u001b[31m\n",
            "\u001b[0m"
          ]
        }
      ]
    },
    {
      "cell_type": "code",
      "source": [
        "import torch\n",
        "import pandas as pd\n",
        "import random\n",
        "import numpy as np\n",
        "import matplotlib.pyplot as plt\n",
        "from transformers import BartForConditionalGeneration, BartTokenizer, Trainer, TrainingArguments, TrainerCallback, GenerationConfig, set_seed\n",
        "from sklearn.model_selection import train_test_split\n",
        "from datasets import load_metric\n",
        "import mlflow\n",
        "import mlflow.pytorch\n",
        "import bert_score\n",
        "import nltk\n",
        "nltk.download('punkt')"
      ],
      "metadata": {
        "colab": {
          "base_uri": "https://localhost:8080/"
        },
        "id": "9j2m6qnGnT8q",
        "outputId": "b64404cc-149d-47cc-de65-aac89767c8e2"
      },
      "execution_count": 2,
      "outputs": [
        {
          "output_type": "stream",
          "name": "stderr",
          "text": [
            "[nltk_data] Downloading package punkt to /root/nltk_data...\n",
            "[nltk_data]   Unzipping tokenizers/punkt.zip.\n"
          ]
        },
        {
          "output_type": "execute_result",
          "data": {
            "text/plain": [
              "True"
            ]
          },
          "metadata": {},
          "execution_count": 2
        }
      ]
    },
    {
      "cell_type": "code",
      "execution_count": 3,
      "metadata": {
        "id": "-0Hk1cvCnMdU"
      },
      "outputs": [],
      "source": [
        "# Fetch data\n",
        "train_data = pd.read_json(\"https://raw.githubusercontent.com/google-research-datasets/Disfl-QA/main/train.json\", orient='index')\n",
        "val_data = pd.read_json(\"https://raw.githubusercontent.com/google-research-datasets/Disfl-QA/main/dev.json\", orient='index')\n",
        "test_data = pd.read_json(\"https://raw.githubusercontent.com/google-research-datasets/Disfl-QA/main/test.json\", orient='index')\n"
      ]
    },
    {
      "cell_type": "code",
      "source": [
        "#clean data\n",
        "train_data = train_data[(train_data['disfluent'].str.len() >= 25)]\n",
        "val_data = val_data[(val_data['disfluent'].str.len() >= 25)]\n",
        "test_data = test_data[(test_data['disfluent'].str.len() >= 25)]"
      ],
      "metadata": {
        "id": "BFo6DDPCoZg7"
      },
      "execution_count": 4,
      "outputs": []
    },
    {
      "cell_type": "code",
      "source": [
        "# Define the DisfluencyDataset class (missing in original code)\n",
        "class DisfluencyDataset(torch.utils.data.Dataset):\n",
        "    def __init__(self, encodings):\n",
        "        self.encodings = encodings\n",
        "\n",
        "    def __getitem__(self, idx):\n",
        "        return {key: val[idx] for key, val in self.encodings.items()}\n",
        "\n",
        "    def __len__(self):\n",
        "        return len(self.encodings['input_ids'])"
      ],
      "metadata": {
        "id": "FpRFiVKBnUxg"
      },
      "execution_count": 5,
      "outputs": []
    },
    {
      "cell_type": "code",
      "source": [
        "# Define the trainer class\n",
        "class BartDisfluencyTrainer:\n",
        "    def __init__(self, train_df, val_df, test_df, model_name=\"facebook/bart-base\", run_name=\"BART_Run_1\",dropout=0,attn_dropout=0, seed=42):\n",
        "        self.train_df = train_df\n",
        "        self.val_df = val_df\n",
        "        self.test_df = test_df\n",
        "        self.model_name = model_name\n",
        "        self.run_name = run_name\n",
        "        self.seed = seed\n",
        "        self.dropout = dropout\n",
        "        self.attn_dropout = attn_dropout\n",
        "\n",
        "        # Set seed for reproducibility\n",
        "        self.set_seed()\n",
        "\n",
        "\n",
        "\n",
        "        # Initialize model and tokenizer\n",
        "        self.model = BartForConditionalGeneration.from_pretrained(self.model_name, dropout=self.dropout,attention_dropout = self.attn_dropout)\n",
        "        #self.model.config.attention_dropout = self.attn_dropout\n",
        "\n",
        "        self.tokenizer = BartTokenizer.from_pretrained(self.model_name)\n",
        "\n",
        "        # Initialize MLflow experiment\n",
        "        mlflow.set_experiment(\"Disfluency_Correction_Experiment\")\n",
        "\n",
        "    def set_seed(self):\n",
        "        set_seed(self.seed)  # Sets seed for Hugging Face's transformers, PyTorch, NumPy, and random.\n",
        "        random.seed(self.seed)\n",
        "        np.random.seed(self.seed)\n",
        "        torch.manual_seed(self.seed)\n",
        "        if torch.cuda.is_available():\n",
        "            torch.cuda.manual_seed_all(self.seed)\n",
        "\n",
        "    def tokenize_data(self, df):\n",
        "        # Tokenize the disfluent and fluent sentences\n",
        "        disfluent_encodings = self.tokenizer(df['disfluent'].tolist(), truncation=True, padding=True, max_length=128, return_tensors=\"pt\")\n",
        "        fluent_encodings = self.tokenizer(df['original'].tolist(), truncation=True, padding=True, max_length=128, return_tensors=\"pt\")\n",
        "        disfluent_encodings['labels'] = fluent_encodings['input_ids']\n",
        "        return disfluent_encodings\n",
        "\n",
        "    def prepare_datasets(self):\n",
        "        # Prepare the training and validation datasets\n",
        "        train_encodings = self.tokenize_data(self.train_df)\n",
        "        val_encodings = self.tokenize_data(self.val_df)\n",
        "        return DisfluencyDataset(train_encodings), DisfluencyDataset(val_encodings)\n",
        "\n",
        "    def train(self):\n",
        "        # Prepare datasets\n",
        "        train_dataset, val_dataset = self.prepare_datasets()\n",
        "\n",
        "        # Set training arguments\n",
        "        training_args = TrainingArguments(\n",
        "            output_dir='./results',\n",
        "            num_train_epochs=4,\n",
        "            per_device_train_batch_size=64,\n",
        "            per_device_eval_batch_size=64,\n",
        "            eval_strategy=\"steps\",\n",
        "            eval_steps=100,\n",
        "            logging_dir='./logs',\n",
        "            logging_steps=100,\n",
        "            save_steps=400,\n",
        "            save_total_limit=2,\n",
        "            report_to=\"none\",\n",
        "            seed=self.seed,\n",
        "            learning_rate=4e-5,\n",
        "            warmup_steps=200,\n",
        "            lr_scheduler_type=\"linear\",\n",
        "            run_name=self.run_name,\n",
        "            #weight_decay=1e-4\n",
        "        )\n",
        "\n",
        "\n",
        "\n",
        "\n",
        "        # Start an MLflow run and train the model\n",
        "        with mlflow.start_run():\n",
        "            mlflow.set_tag(\"mlflow.runName\", self.run_name)\n",
        "\n",
        "            trainer = Trainer(\n",
        "                model=self.model,\n",
        "                args=training_args,\n",
        "                train_dataset=train_dataset,\n",
        "                eval_dataset=val_dataset,\n",
        "            )\n",
        "\n",
        "            # Log hyperparameters to MLflow\n",
        "            mlflow.log_params({\n",
        "                \"model_name\": self.model_name,\n",
        "                \"num_train_epochs\": training_args.num_train_epochs,\n",
        "                \"batch_size\": training_args.per_device_train_batch_size,\n",
        "                \"eval_batch_size\": training_args.per_device_eval_batch_size,\n",
        "                \"learninig_rate\":  training_args.learning_rate,\n",
        "                #\"weight_decay\":  training_args.weight_decay,\n",
        "                #\"attention_dropout\": self.model.config.attention_dropout,\n",
        "                #\"dropout\": self.model.config.dropout,\n",
        "                \"seed\":  training_args.seed,\n",
        "                \"run_name\":  training_args.run_name\n",
        "            })\n",
        "\n",
        "            # Train the model\n",
        "            trainer.train()\n",
        "\n",
        "            # Log the trained model to MLflow\n",
        "            mlflow.pytorch.log_model(self.model, \"BART_Model_1\")\n",
        "\n",
        "            # Plot and log training loss\n",
        "            self.plot_and_log_loss(trainer.state.log_history)\n",
        "\n",
        "            # Generate predictions and log metrics inside the same run\n",
        "            predictions = self.generate_predictions()\n",
        "            self.evaluate_and_log_metrics(predictions)\n",
        "\n",
        "    def plot_and_log_loss(self, logs):\n",
        "        # Extract training and evaluation losses\n",
        "        train_losses = [log['loss'] for log in logs if 'loss' in log]\n",
        "        eval_losses = [log['eval_loss'] for log in logs if 'eval_loss' in log]\n",
        "\n",
        "        # Plot losses\n",
        "        plt.figure()\n",
        "        plt.plot(train_losses, label='Training Loss')\n",
        "        if eval_losses:\n",
        "            plt.plot(eval_losses, label='Validation Loss')\n",
        "        plt.xlabel(\"Steps\")\n",
        "        plt.ylabel(\"Loss\")\n",
        "        plt.title(\"Training and Validation Loss\")\n",
        "        plt.legend()\n",
        "        plt.grid(True)\n",
        "\n",
        "        # Save plot\n",
        "        plot_path = f\"{self.run_name}_loss_plot.png\"\n",
        "        plt.savefig(plot_path)\n",
        "\n",
        "        # Log loss plot as artifact\n",
        "        mlflow.log_artifact(plot_path)\n",
        "\n",
        "    def generate_predictions(self, batch_size=32):\n",
        "        # Generate predictions on the test dataset\n",
        "        disfluent_texts = self.test_df[\"disfluent\"].tolist()\n",
        "        predictions = []\n",
        "\n",
        "        # Define the generation configuration\n",
        "        generation_config = GenerationConfig(\n",
        "            early_stopping=True,\n",
        "            num_beams=4,\n",
        "            no_repeat_ngram_size=3,\n",
        "            max_length=128\n",
        "        )\n",
        "\n",
        "        # Process texts in batches\n",
        "        for i in range(0, len(disfluent_texts), batch_size):\n",
        "            batch_texts = disfluent_texts[i:i + batch_size]\n",
        "\n",
        "            # Tokenize the batch\n",
        "            inputs = self.tokenizer(\n",
        "                batch_texts,\n",
        "                return_tensors=\"pt\",\n",
        "                max_length=128,\n",
        "                truncation=True,\n",
        "                padding=\"max_length\"\n",
        "            ).to(self.model.device)\n",
        "\n",
        "            # Generate predictions with adjusted parameters\n",
        "            with torch.no_grad():\n",
        "                outputs = self.model.generate(\n",
        "                    input_ids=inputs[\"input_ids\"],\n",
        "                    attention_mask=inputs[\"attention_mask\"],\n",
        "                    generation_config=generation_config  # Pass the generation config\n",
        "                )\n",
        "\n",
        "            # Decode predictions\n",
        "            batch_predictions = [self.tokenizer.decode(g, skip_special_tokens=True).strip() for g in outputs]\n",
        "            predictions.extend(batch_predictions)\n",
        "\n",
        "        # Check for empty predictions\n",
        "        empty_predictions = [pred for pred in predictions if pred.strip() == \"\"]\n",
        "        print(f\"Number of empty predictions: {len(empty_predictions)}\")\n",
        "\n",
        "        return predictions\n",
        "\n",
        "\n",
        "    def evaluate_and_log_metrics(self, predictions):\n",
        "        # Evaluate predictions using BLEU, ROUGE, and BERTScore\n",
        "        fluent_texts = self.test_df[\"original\"].tolist()\n",
        "\n",
        "        # Compute BLEU score\n",
        "        tokenized_predictions = [nltk.word_tokenize(pred.lower()) for pred in predictions]\n",
        "        tokenized_references = [[nltk.word_tokenize(ref.lower())] for ref in fluent_texts]\n",
        "        bleu_score = load_metric(\"bleu\").compute(predictions=tokenized_predictions, references=tokenized_references)[\"bleu\"]\n",
        "\n",
        "        # Compute ROUGE score\n",
        "        rouge_scores = load_metric(\"rouge\").compute(predictions=predictions, references=fluent_texts)\n",
        "\n",
        "        # Compute BERTScore\n",
        "        bert_scorer = bert_score.BERTScorer(lang=\"en\", rescale_with_baseline=True)\n",
        "        _, _, F1 = bert_scorer.score(predictions, fluent_texts)\n",
        "        bert_f1 = F1.mean().item()\n",
        "\n",
        "        # Log metrics to MLflow\n",
        "        mlflow.log_metrics({\n",
        "            \"bleu\": bleu_score,\n",
        "            \"rouge1_fmeasure\": rouge_scores['rouge1'].mid.fmeasure,\n",
        "            \"rouge2_fmeasure\": rouge_scores['rouge2'].mid.fmeasure,\n",
        "            \"rougeL_fmeasure\": rouge_scores['rougeL'].mid.fmeasure,\n",
        "            \"bert_score_f1\": bert_f1\n",
        "        })\n",
        "\n",
        "        # Print to confirm logging of metrics\n",
        "        print(f\"\\n\\nbleu_score: {bleu_score}\\n rouge_scores: {rouge_scores['rougeL'].mid.fmeasure} \\n bert_f1: {bert_f1}\")\n",
        "        print(\"Metrics logged to MLflow successfully.\")\n"
      ],
      "metadata": {
        "id": "pu81hS9onUt4"
      },
      "execution_count": 9,
      "outputs": []
    },
    {
      "cell_type": "code",
      "source": [
        "trainer = BartDisfluencyTrainer(train_data, val_data, test_data, seed=42)\n",
        "trainer.train()"
      ],
      "metadata": {
        "colab": {
          "base_uri": "https://localhost:8080/",
          "height": 1000
        },
        "id": "342iiTspnUrX",
        "outputId": "5d11a12d-4bb5-46ad-ed09-14a7b555b6da"
      },
      "execution_count": 10,
      "outputs": [
        {
          "output_type": "stream",
          "name": "stderr",
          "text": [
            "/usr/local/lib/python3.10/dist-packages/transformers/tokenization_utils_base.py:1601: FutureWarning: `clean_up_tokenization_spaces` was not set. It will be set to `True` by default. This behavior will be depracted in transformers v4.45, and will be then set to `False` by default. For more details check this issue: https://github.com/huggingface/transformers/issues/31884\n",
            "  warnings.warn(\n"
          ]
        },
        {
          "output_type": "display_data",
          "data": {
            "text/plain": [
              "<IPython.core.display.HTML object>"
            ],
            "text/html": [
              "\n",
              "    <div>\n",
              "      \n",
              "      <progress value='448' max='448' style='width:300px; height:20px; vertical-align: middle;'></progress>\n",
              "      [448/448 04:19, Epoch 4/4]\n",
              "    </div>\n",
              "    <table border=\"1\" class=\"dataframe\">\n",
              "  <thead>\n",
              " <tr style=\"text-align: left;\">\n",
              "      <th>Step</th>\n",
              "      <th>Training Loss</th>\n",
              "      <th>Validation Loss</th>\n",
              "    </tr>\n",
              "  </thead>\n",
              "  <tbody>\n",
              "    <tr>\n",
              "      <td>100</td>\n",
              "      <td>6.180800</td>\n",
              "      <td>1.837098</td>\n",
              "    </tr>\n",
              "    <tr>\n",
              "      <td>200</td>\n",
              "      <td>0.725400</td>\n",
              "      <td>0.102224</td>\n",
              "    </tr>\n",
              "    <tr>\n",
              "      <td>300</td>\n",
              "      <td>0.082100</td>\n",
              "      <td>0.077666</td>\n",
              "    </tr>\n",
              "    <tr>\n",
              "      <td>400</td>\n",
              "      <td>0.052300</td>\n",
              "      <td>0.074907</td>\n",
              "    </tr>\n",
              "  </tbody>\n",
              "</table><p>"
            ]
          },
          "metadata": {}
        },
        {
          "output_type": "stream",
          "name": "stderr",
          "text": [
            "Some non-default generation parameters are set in the model config. These should go into a GenerationConfig file (https://huggingface.co/docs/transformers/generation_strategies#save-a-custom-decoding-strategy-with-your-model) instead. This warning will be raised to an exception in v4.41.\n",
            "Non-default generation parameters: {'early_stopping': True, 'num_beams': 4, 'no_repeat_ngram_size': 3, 'forced_bos_token_id': 0, 'forced_eos_token_id': 2}\n",
            "Some non-default generation parameters are set in the model config. These should go into a GenerationConfig file (https://huggingface.co/docs/transformers/generation_strategies#save-a-custom-decoding-strategy-with-your-model) instead. This warning will be raised to an exception in v4.41.\n",
            "Non-default generation parameters: {'early_stopping': True, 'num_beams': 4, 'no_repeat_ngram_size': 3, 'forced_bos_token_id': 0, 'forced_eos_token_id': 2}\n",
            "2024/09/07 13:34:42 WARNING mlflow.utils.requirements_utils: Found torch version (2.4.0+cu121) contains a local version label (+cu121). MLflow logged a pip requirement for this package as 'torch==2.4.0' without the local version label to make it installable from PyPI. To specify pip requirements containing local version labels, please use `conda_env` or `pip_requirements`.\n",
            "2024/09/07 13:34:47 WARNING mlflow.models.model: Model logged without a signature and input example. Please set `input_example` parameter when logging the model to auto infer the model signature.\n"
          ]
        },
        {
          "output_type": "stream",
          "name": "stdout",
          "text": [
            "Number of empty predictions: 0\n"
          ]
        },
        {
          "output_type": "stream",
          "name": "stderr",
          "text": [
            "/usr/local/lib/python3.10/dist-packages/transformers/tokenization_utils_base.py:1601: FutureWarning: `clean_up_tokenization_spaces` was not set. It will be set to `True` by default. This behavior will be depracted in transformers v4.45, and will be then set to `False` by default. For more details check this issue: https://github.com/huggingface/transformers/issues/31884\n",
            "  warnings.warn(\n",
            "Some weights of RobertaModel were not initialized from the model checkpoint at roberta-large and are newly initialized: ['roberta.pooler.dense.bias', 'roberta.pooler.dense.weight']\n",
            "You should probably TRAIN this model on a down-stream task to be able to use it for predictions and inference.\n"
          ]
        },
        {
          "output_type": "stream",
          "name": "stdout",
          "text": [
            "\n",
            "\n",
            "bleu_score: 0.8916952973544258\n",
            " rouge_scores: 0.9407245310653287 \n",
            " bert_f1: 0.9342878460884094\n",
            "Metrics logged to MLflow successfully.\n"
          ]
        },
        {
          "output_type": "display_data",
          "data": {
            "text/plain": [
              "<Figure size 640x480 with 1 Axes>"
            ],
            "image/png": "[encoded data removed]"
          },
          "metadata": {}
        }
      ]
    },
    {
      "cell_type": "code",
      "source": [
        "predictions = trainer.generate_predictions()\n",
        "\n",
        "original_texts = test_data[\"original\"].tolist()\n",
        "disfluent_texts = test_data[\"disfluent\"].tolist()\n",
        "\n",
        "result_df = pd.DataFrame({\n",
        "    \"Disfluent\": disfluent_texts,\n",
        "    \"Original (Fluent)\": original_texts,\n",
        "    \"Predictions (Fluent)\": predictions\n",
        "})\n",
        "\n",
        "result_df.to_csv('BART_Predication.csv')"
      ],
      "metadata": {
        "colab": {
          "base_uri": "https://localhost:8080/"
        },
        "id": "9BoYj9JwnUpc",
        "outputId": "f108404b-2212-4f8d-81e1-bf9e51c8fdcc"
      },
      "execution_count": 11,
      "outputs": [
        {
          "output_type": "stream",
          "name": "stdout",
          "text": [
            "Number of empty predictions: 0\n"
          ]
        }
      ]
    },
    {
      "cell_type": "code",
      "source": [],
      "metadata": {
        "id": "l8sCVJ0_nUmu"
      },
      "execution_count": null,
      "outputs": []
    },
    {
      "cell_type": "code",
      "source": [],
      "metadata": {
        "id": "xCpaVfM8nUkj"
      },
      "execution_count": null,
      "outputs": []
    },
    {
      "cell_type": "code",
      "source": [],
      "metadata": {
        "id": "U5dlkIdBnUia"
      },
      "execution_count": null,
      "outputs": []
    },
    {
      "cell_type": "code",
      "source": [],
      "metadata": {
        "id": "yupSL8PDnUf-"
      },
      "execution_count": null,
      "outputs": []
    }
  ]
}